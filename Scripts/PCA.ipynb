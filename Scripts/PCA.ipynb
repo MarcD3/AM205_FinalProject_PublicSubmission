{
 "cells": [
  {
   "cell_type": "code",
   "execution_count": 5,
   "metadata": {},
   "outputs": [],
   "source": [
    "from sklearn.decomposition import PCA\n",
    "import matplotlib.pyplot as plt\n",
    "import matplotlib.cm as cm\n",
    "from matplotlib.cm import ScalarMappable\n",
    "import os\n",
    "import numpy as np\n",
    "import matplotlib"
   ]
  },
  {
   "cell_type": "code",
   "execution_count": 6,
   "metadata": {},
   "outputs": [],
   "source": [
    "# Plotting settings\n",
    "import matplotlib.colors as colors\n",
    "import mplhep as hep\n",
    "plt.style.use(hep.style.ROOT)\n",
    "matplotlib.rcParams.update({'font.size': 20})"
   ]
  },
  {
   "cell_type": "markdown",
   "metadata": {},
   "source": [
    "## PCA for H2O and CO2 bond angle changes"
   ]
  },
  {
   "cell_type": "code",
   "execution_count": 23,
   "metadata": {},
   "outputs": [
    {
     "data": {
      "image/png": "[encoded data removed]",
      "text/plain": [
       "<Figure size 640x480 with 2 Axes>"
      ]
     },
     "metadata": {},
     "output_type": "display_data"
    },
    {
     "data": {
      "image/png": "[encoded data removed]",
      "text/plain": [
       "<Figure size 640x480 with 2 Axes>"
      ]
     },
     "metadata": {},
     "output_type": "display_data"
    }
   ],
   "source": [
    "def truncate_colormap(cmap, minval=0.0, maxval=1.0, n=100):\n",
    "    new_cmap = colors.LinearSegmentedColormap.from_list(\n",
    "        'trunc({n},{a:.2f},{b:.2f})'.format(n=cmap.name, a=minval, b=maxval),\n",
    "        cmap(np.linspace(minval, maxval, n)))\n",
    "    return new_cmap\n",
    "\n",
    "arr = np.linspace(0, 50, 100).reshape((10, 10))\n",
    "fig, ax = plt.subplots(ncols=2)\n",
    "\n",
    "cmap = plt.get_cmap('Greens')\n",
    "new_greens = truncate_colormap(cmap, 0.4, 1)\n",
    "ax[0].imshow(arr, interpolation='nearest', cmap=cmap)\n",
    "ax[1].imshow(arr, interpolation='nearest', cmap=new_greens)\n",
    "plt.show()\n",
    "fig, ax = plt.subplots(ncols=2)\n",
    "\n",
    "cmap = plt.get_cmap('Purples')\n",
    "new_purples = truncate_colormap(cmap, 0.55, 1)\n",
    "ax[0].imshow(arr, interpolation='nearest', cmap=cmap)\n",
    "ax[1].imshow(arr, interpolation='nearest', cmap=new_purples)\n",
    "plt.show()"
   ]
  },
  {
   "cell_type": "code",
   "execution_count": 8,
   "metadata": {},
   "outputs": [],
   "source": [
    "def create_PCA(functions, titles, change_type):\n",
    "\n",
    "    # create PCA\n",
    "    fig, axs = plt.subplots(2, 2, figsize = (10, 9))\n",
    "        \n",
    "    for ax, func, title in zip (axs.flatten()[:-2], functions, titles): \n",
    "\n",
    "        file = 'PCA/ACE/%s/%s_%s.npz'%('bond_delta', func, change_type)\n",
    "        data = np.load(file)\n",
    "        all_colors = data['colors']\n",
    "        all = data['ACE']\n",
    "\n",
    "        pca = PCA(n_components=2)\n",
    "        ACE_pca = pca.fit_transform(all)\n",
    "\n",
    "        \n",
    "        sc = ax.scatter(ACE_pca[:,0], ACE_pca[:,1], c=all_colors)\n",
    "        ax.set_aspect(1.0/ax.get_data_ratio(), adjustable='box')\n",
    " \n",
    "        \n",
    "        ax.set_title(title)\n",
    "        ax.set_aspect(1.0/ax.get_data_ratio(), adjustable='box')\n",
    "\n",
    "    for ax, func, title in zip (axs.flatten()[1:], functions[1:], titles[1:]): \n",
    "\n",
    "        file = 'PCA/ACE/%s/%s_%s.npz'%('alignment_angle', func, 'alignment_angle')\n",
    "        data = np.load(file)\n",
    "        all_colors = data['colors']\n",
    "        all = data['ACE']\n",
    "\n",
    "        pca = PCA(n_components=2)\n",
    "        ACE_pca = pca.fit_transform(all)\n",
    "\n",
    "        \n",
    "        sc = ax.scatter(ACE_pca[:,0], ACE_pca[:,1], c=all_colors)\n",
    "        ax.set_aspect(1.0/ax.get_data_ratio(), adjustable='box')\n",
    " \n",
    "        \n",
    "        ax.set_title(title)\n",
    "        ax.set_aspect(1.0/ax.get_data_ratio(), adjustable='box')\n",
    "    \n",
    "    axs[0][0].set_ylabel('Principal Component 2')\n",
    "    axs[1][0].set_ylabel('Principal Component 2')\n",
    "    axs[1][0].set_xlabel('Principal Component 1')\n",
    "    axs[1][1].set_xlabel('Principal Component 1')\n",
    "\n",
    "    smb = plt.cm.ScalarMappable(cmap=new_purples)\n",
    "    smr = plt.cm.ScalarMappable(cmap=new_greens)\n",
    "    fig.subplots_adjust(right=0.75)\n",
    "    cbar_ax = fig.add_axes([0.77, 0.55, 0.02, 0.3])\n",
    "    cbar = fig.colorbar(smb, cax=cbar_ax)\n",
    "    cbar.set_ticklabels(np.round(np.linspace(-45, 45, 6),1))\n",
    "    cbar_ax = fig.add_axes([0.85, 0.55, 0.02, 0.3])\n",
    "    cbar = fig.colorbar(smr, cax=cbar_ax)\n",
    "    cbar.set_ticklabels(np.round(np.linspace(-45, 45, 6),1))\n",
    "\n",
    "\n",
    "    cbar_ax = fig.add_axes([0.77, 0.15, 0.02, 0.3])\n",
    "    cbar = fig.colorbar(smb, cax=cbar_ax)\n",
    "    cbar.set_ticklabels(np.round(np.linspace(-0.5, 0.5, 6),1))\n",
    "    cbar_ax = fig.add_axes([0.85, 0.15, 0.02, 0.3])\n",
    "    cbar = fig.colorbar(smr, cax=cbar_ax)\n",
    "    cbar.set_ticklabels(np.round(np.linspace(-0.5, 0.5, 6),1))\n",
    "    plt.savefig('pca_simple.png')"
   ]
  },
  {
   "cell_type": "code",
   "execution_count": 10,
   "metadata": {},
   "outputs": [],
   "source": [
    "functions = ['chebyshev', 'fourier', 'chebyshev', 'fourier']\n",
    "titles = ['Chebyshev', 'Fourier', 'Chebyshev', 'Fourier']\n",
    "change_type = 'bond_delta'\n",
    "create_PCA(functions, titles, change_type)"
   ]
  },
  {
   "cell_type": "markdown",
   "metadata": {},
   "source": [
    "# PCA Variance\n",
    "Create a heatmap of the variance of PCA plots for different cutoffs and basis"
   ]
  },
  {
   "cell_type": "code",
   "execution_count": 11,
   "metadata": {},
   "outputs": [],
   "source": [
    "import seaborn as sn"
   ]
  },
  {
   "cell_type": "code",
   "execution_count": 2,
   "metadata": {},
   "outputs": [],
   "source": [
    "\n",
    "def make_heatmap_one_basis(cutoffs, basis, titles):\n",
    "    \n",
    "    fig, axs = plt.subplots(1, len(cutoffs), figsize = (13, 4), sharey = True)\n",
    "        \n",
    "    for axis, cutoff, title in zip (axs[:-1], cutoffs[:-1], titles[:-1]): \n",
    "\n",
    "        store_folder = 'PCA/heatmap'\n",
    "        file = '%s/norm_cutoff_%s_basis_%s.npy'%(store_folder, cutoff, basis)\n",
    "\n",
    "        arr = np.load(file)\n",
    "\n",
    "        # Define x and y axis labels and values\n",
    "        x_labels = [2, 4, 6, 8, 10]\n",
    "        y_labels = [2, 4, 6, 8, 10]\n",
    "\n",
    "        # Create heatmap with Seaborn\n",
    "        ax = sn.heatmap(arr, cmap = 'PRGn', cbar=False, ax=axis)  # You can adjust the center value if needed\n",
    "\n",
    "        # Set x-axis and y-axis tick labels and centers them\n",
    "        axis.set_xticks(np.arange(len(x_labels)) + 0.5)\n",
    "        axis.set_xticklabels(x_labels, ha='center')\n",
    "        axis.tick_params(left=False, bottom=False)\n",
    "\n",
    "        axis.set_xlabel('L max', fontsize=12)\n",
    "        # Add a title\n",
    "        axis.set_title(title, fontsize=14)\n",
    "        axis.set_aspect(1.0/ax.get_data_ratio(), adjustable='box')\n",
    "    \n",
    "\n",
    "    #print(y_labels) \n",
    "\n",
    "    store_folder = 'PCA/heatmap'\n",
    "    file = '%s/norm_cutoff_%s_basis_%s.npy'%(store_folder, cutoffs[-1], basis)\n",
    "\n",
    "    arr = np.load(file)\n",
    "   \n",
    "    # Set x-axis and y-axis labels\n",
    "    cbar_ax = fig.add_axes([.92, .12, .02, .75])\n",
    "    sc = sn.heatmap(arr, cmap = 'PRGn', ax=axs[-1], cbar_ax = cbar_ax)\n",
    "    #plt.colorbar(sc, ax=axs[-1], orientation='vertical')\n",
    "    axs[-1].set_title(titles[-1])\n",
    "    axs[-1].tick_params(left=False, bottom=False)\n",
    "    axs[-1].set_xlabel('L max', fontsize=12)\n",
    "    axs[-1].set_xticklabels(x_labels, ha='center')\n",
    "    axs[-1].set_aspect(1.0/ax.get_data_ratio(), adjustable='box')\n",
    "\n",
    "    axs[0].set_ylabel('N max', fontsize=12)\n",
    "    axs[0].set_yticklabels(y_labels, rotation=45, ha='right', va='center') \n",
    "    axs[0].set_yticks(np.arange(len(y_labels)) + 0.5, labels=y_labels)\n"
   ]
  },
  {
   "cell_type": "code",
   "execution_count": 12,
   "metadata": {},
   "outputs": [],
   "source": [
    "make_heatmap_one_basis([4, 6, 8], 'chebyshev', ['Cutoff Four', 'Cutoff Six', 'Cutoff Eight'])"
   ]
  }
 ],
 "metadata": {
  "kernelspec": {
   "display_name": "Python 3",
   "language": "python",
   "name": "python3"
  },
  "language_info": {
   "codemirror_mode": {
    "name": "ipython",
    "version": 3
   },
   "file_extension": ".py",
   "mimetype": "text/x-python",
   "name": "python",
   "nbconvert_exporter": "python",
   "pygments_lexer": "ipython3",
   "version": "3.9.6"
  },
  "orig_nbformat": 4
 },
 "nbformat": 4,
 "nbformat_minor": 2
}
