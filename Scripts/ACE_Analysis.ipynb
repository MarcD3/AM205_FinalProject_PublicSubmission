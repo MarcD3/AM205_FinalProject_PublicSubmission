{
 "cells": [
  {
   "cell_type": "code",
   "execution_count": 10,
   "id": "c7f76a94",
   "metadata": {},
   "outputs": [],
   "source": [
    "import numpy as np\n",
    "import matplotlib.pyplot as plt\n",
    "from matplotlib.ticker import MaxNLocator\n",
    "from matplotlib.figure import Figure"
   ]
  },
  {
   "cell_type": "markdown",
   "id": "bdfabe2b",
   "metadata": {},
   "source": [
    "# Create complexity plot"
   ]
  },
  {
   "cell_type": "code",
   "execution_count": null,
   "id": "10298751",
   "metadata": {},
   "outputs": [],
   "source": [
    "directory = '../ACE/time'\n",
    "basis_arr = ['chebyshev','weighted_chebyshev','positive_chebyshev','weighted_positive_chebyshev', 'poly', 'fourier_quarter', 'fourier_half', 'fourier', 'equispaced_gaussians']\n",
    "\n",
    "x_vals = np.arange(2, 22, 2)\n",
    "cmap = plt.get_cmap()\n",
    "colors = [cmap(x) for x in np.linspace(0,1, 9)]\n",
    "labels = ['Chebyshev', 'Weighted Chebyshev', 'Positive Chebyshev', 'Weighted Positive Chebyshev', 'Monomial', 'Fourier Quarter', 'Fourier Half', 'Fourier', 'Equispaced Gaussians']\n",
    "fg = Figure()\n",
    "ax = fg.gca()\n",
    "\n",
    "for basis, label, c in zip (basis_arr, labels, colors):\n",
    "\n",
    "    filename = '%s/%s_4.npy'%(directory, basis)\n",
    "\n",
    "    time_arr = np.load(filename)\n",
    "\n",
    "    ax.plot( x_vals, time_arr, '-o',label = label, color = c)\n",
    "    ax.xaxis.set_major_locator(MaxNLocator(integer=True))\n",
    "\n",
    "ax.set_xlabel('$N_{max}$')\n",
    "\n",
    "ax.set_ylabel('Time (s)')\n",
    "ax.legend()\n",
    "fg.savefig(\"example.png\")\n",
    "plt.show()\n"
   ]
  }
 ],
 "metadata": {
  "kernelspec": {
   "display_name": "Python 3",
   "language": "python",
   "name": "python3"
  },
  "language_info": {
   "codemirror_mode": {
    "name": "ipython",
    "version": 3
   },
   "file_extension": ".py",
   "mimetype": "text/x-python",
   "name": "python",
   "nbconvert_exporter": "python",
   "pygments_lexer": "ipython3",
   "version": "3.9.6"
  }
 },
 "nbformat": 4,
 "nbformat_minor": 5
}
